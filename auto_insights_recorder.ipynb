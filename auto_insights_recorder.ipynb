{
  "nbformat": 4,
  "nbformat_minor": 0,
  "metadata": {
    "colab": {
      "name": "auto_insights_recorder.ipynb",
      "provenance": [],
      "collapsed_sections": [],
      "authorship_tag": "ABX9TyMtTogFiZkLIehgXL4ZdKev",
      "include_colab_link": true
    },
    "kernelspec": {
      "name": "python3",
      "display_name": "Python 3"
    }
  },
  "cells": [
    {
      "cell_type": "markdown",
      "metadata": {
        "id": "view-in-github",
        "colab_type": "text"
      },
      "source": [
        "<a href=\"https://colab.research.google.com/github/saito828koki/engagement_auto_recorder/blob/master/auto_insights_recorder.ipynb\" target=\"_parent\"><img src=\"https://colab.research.google.com/assets/colab-badge.svg\" alt=\"Open In Colab\"/></a>"
      ]
    },
    {
      "cell_type": "code",
      "metadata": {
        "id": "eYr-ihpf_2fM",
        "colab_type": "code",
        "colab": {
          "base_uri": "https://localhost:8080/",
          "height": 119
        },
        "outputId": "a16c10d4-ea85-4a3e-ae28-c2db99f5754a"
      },
      "source": [
        "!pip install gspread requests json datetime oauth2client pandas"
      ],
      "execution_count": null,
      "outputs": [
        {
          "output_type": "stream",
          "text": [
            "Requirement already satisfied: gspread in /usr/local/lib/python3.6/dist-packages (3.0.1)\n",
            "Requirement already satisfied: requests>=2.2.1 in /usr/local/lib/python3.6/dist-packages (from gspread) (2.23.0)\n",
            "Requirement already satisfied: certifi>=2017.4.17 in /usr/local/lib/python3.6/dist-packages (from requests>=2.2.1->gspread) (2020.6.20)\n",
            "Requirement already satisfied: urllib3!=1.25.0,!=1.25.1,<1.26,>=1.21.1 in /usr/local/lib/python3.6/dist-packages (from requests>=2.2.1->gspread) (1.24.3)\n",
            "Requirement already satisfied: idna<3,>=2.5 in /usr/local/lib/python3.6/dist-packages (from requests>=2.2.1->gspread) (2.10)\n",
            "Requirement already satisfied: chardet<4,>=3.0.2 in /usr/local/lib/python3.6/dist-packages (from requests>=2.2.1->gspread) (3.0.4)\n"
          ],
          "name": "stdout"
        }
      ]
    },
    {
      "cell_type": "code",
      "metadata": {
        "id": "E1tXBVNeQE2o",
        "colab_type": "code",
        "colab": {}
      },
      "source": [
        "access_token = 'EAAIRdZAELy18BAG4TusfAYyUPPYSBH0f2yGvrjqdbRQkRTAxYRf5RWqTK4CP9hxJVh4vNIDzri3JvaSiewhZAMHthFMbJHF5JiGyM0OD1TyRPsTmU2vZCMVdMCrprp6EtdgwjE2SOdPOD8cCg2pNwdI6PyvYo5AF2t9ZAfAlFMyCZCs8lYjQ2ZCqmqcLsZCDf7udyjlsTOxZCdZCJSmrwTVCX6f5CFFyKtRhLiwNZBA2jedgZDZD'\n",
        "\n",
        "ig_user_id = \"17841403073610484\"\n",
        "\n",
        "sheet_name = \"インスタサンプル\""
      ],
      "execution_count": null,
      "outputs": []
    },
    {
      "cell_type": "markdown",
      "metadata": {
        "id": "iu-Ogz3uPA7X",
        "colab_type": "text"
      },
      "source": [
        "スプレッドシートに余計なものを書き込んでいるとバグる可能性が高いので、分析したりメモしたりするときはそのスプレッドシートをコピーしてから利用したほうがよいです\n",
        "\n",
        "\n",
        "コードを走らせるまえにworksheetを必ず4枚用意してください(エンゲージメント、インプレッション、リーチ、保存の4つを別々のシートに記録するため)"
      ]
    },
    {
      "cell_type": "code",
      "metadata": {
        "id": "MUGWlYfBQHB4",
        "colab_type": "code",
        "colab": {}
      },
      "source": [
        "import requests\n",
        "import json\n",
        "import datetime\n",
        "from google.colab import auth\n",
        "from oauth2client.client import GoogleCredentials\n",
        "import gspread\n",
        "import pandas as pd\n",
        "from gspread_dataframe import set_with_dataframe"
      ],
      "execution_count": 25,
      "outputs": []
    },
    {
      "cell_type": "code",
      "metadata": {
        "id": "pmS3oQDVQeYO",
        "colab_type": "code",
        "colab": {}
      },
      "source": [
        "def get_post_data(access_token, ig_user_id, media_id, media_url, insights_list):\n",
        "  params = (\n",
        "    ('access_token', access_token),\n",
        "    ('fields', 'id, shortcode'),\n",
        "  )\n",
        "  media_response = requests.get('https://graph.facebook.com/v8.0/' + ig_user_id + '/media', params=params)  \n",
        "  media_dict = media_response.json()\n",
        "  media_id = []\n",
        "  media_url = []\n",
        "  for num, d in enumerate(media_dict[\"data\"]):\n",
        "    # api limitにひっかからないように30投稿とかにしておく\n",
        "    if num >= 30:\n",
        "      break\n",
        "    media_id.append(d[\"id\"])\n",
        "    media_url.append(\"https://www.instagram.com/p/\" + d[\"shortcode\"])\n",
        "  params = (\n",
        "    ('access_token', access_token),\n",
        "    ('metric', 'engagement,impressions,reach,saved'),\n",
        "  )\n",
        "\n",
        "  insights_list = []\n",
        "\n",
        "  for m in media_id:\n",
        "    insights_response = requests.get('https://graph.facebook.com/v8.0/' + m + '/insights', params=params)\n",
        "    insights_dict = insights_response.json()\n",
        "    for d in insights_dict[\"data\"]:\n",
        "      add_dict = {}\n",
        "      add_dict[d[\"name\"]] = d[\"values\"][0][\"value\"]\n",
        "      insights_list.append(add_dict)\n",
        "  # [{\"engagement\": 10, \"impressions\": 100, \"reach\": 1000, \"saved\": 5}]みたいな形のリストを作る\n",
        "  return media_id, media_url, insights_list\n",
        "\n",
        "\n",
        "sheet_num_item_dict = {0: 'engagement', 1: 'impressions', 2: 'reach', 3: 'saved'}\n",
        "\n",
        "def main(sheet_name, sheet_num, ):\n",
        "  # 認証処理\n",
        "  auth.authenticate_user(media_id, media_url, insights_list)\n",
        "  gc = gspread.authorize(GoogleCredentials.get_application_default())\n",
        "\n",
        "  # sheet_nameに渡された名前のスプレッドシートをopen\n",
        "  # 存在しないとエラーになる\n",
        "  worksheet = gc.open(sheet_name).get_worksheet(sheet_num)\n",
        "\n",
        "  # List[List]の形でworksheetを読み込む\n",
        "  df = worksheet.get_all_values()\n",
        "  # sheetが空のときは投稿のURLをカラムとして初期化する\n",
        "  if df == []:\n",
        "    tmp = ['']\n",
        "    for p in media_url:\n",
        "      tmp.append(p)\n",
        "    df.append(tmp)\n",
        "  \n",
        "  else:\n",
        "    for p in media_url:\n",
        "      # 今までクロールしたことのある投稿かチェック\n",
        "      if p not in df[0]:\n",
        "        #なければカラムを足す\n",
        "        df[0].append(p)\n",
        "        # 今までの記録があれば空欄で初期化する操作もする\n",
        "        if len(df) > 1:\n",
        "          for i in range(1, len(df)):\n",
        "            get_all_values[i].append('')\n",
        "    \n",
        "\n",
        "    add_row = [''] * len(df[0])\n",
        "    # indexには今日の日付を使用する\n",
        "    today = datetime.date.today()\n",
        "    add_row[0] = today\n",
        "    for i, p in enumerate(df[0][1:]):\n",
        "      if p in media_url:\n",
        "        add_row[i+1] = insights_list[media_url.index(p)][sheet_num_item_dict[sheet_num]]\n",
        "    df.append(add_row)\n",
        "\n",
        "    set_with_dataframe(worksheet, pd.DataFrame(df), include_index=False, include_column_header=False)"
      ],
      "execution_count": 17,
      "outputs": []
    },
    {
      "cell_type": "code",
      "metadata": {
        "id": "yuFrrObC5hp0",
        "colab_type": "code",
        "colab": {}
      },
      "source": [
        "media_id, media_url, insights_list = get_post_data\n",
        "for i in range(4):\n",
        "  main(sheet_name, i, media_id, media_url, insights_list)"
      ],
      "execution_count": null,
      "outputs": []
    }
  ]
}