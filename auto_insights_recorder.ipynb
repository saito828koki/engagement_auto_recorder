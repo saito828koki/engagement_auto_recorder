{
  "nbformat": 4,
  "nbformat_minor": 0,
  "metadata": {
    "colab": {
      "name": "auto_insights_recorder.ipynb",
      "provenance": [],
      "collapsed_sections": [],
      "include_colab_link": true
    },
    "kernelspec": {
      "name": "python3",
      "display_name": "Python 3"
    }
  },
  "cells": [
    {
      "cell_type": "markdown",
      "metadata": {
        "id": "view-in-github",
        "colab_type": "text"
      },
      "source": [
        "<a href=\"https://colab.research.google.com/github/saito828koki/engagement_auto_recorder/blob/master/auto_insights_recorder.ipynb\" target=\"_parent\"><img src=\"https://colab.research.google.com/assets/colab-badge.svg\" alt=\"Open In Colab\"/></a>"
      ]
    },
    {
      "cell_type": "code",
      "metadata": {
        "id": "eYr-ihpf_2fM",
        "colab_type": "code",
        "colab": {
          "base_uri": "https://localhost:8080/",
          "height": 305
        },
        "outputId": "6ac77f4d-36ff-4d26-8184-787bdb3b9683"
      },
      "source": [
        "!pip install gspread requests oauth2client pandas"
      ],
      "execution_count": null,
      "outputs": [
        {
          "output_type": "stream",
          "text": [
            "Requirement already satisfied: gspread in /usr/local/lib/python3.6/dist-packages (3.0.1)\n",
            "Requirement already satisfied: requests in /usr/local/lib/python3.6/dist-packages (2.23.0)\n",
            "Requirement already satisfied: oauth2client in /usr/local/lib/python3.6/dist-packages (4.1.3)\n",
            "Requirement already satisfied: pandas in /usr/local/lib/python3.6/dist-packages (1.0.5)\n",
            "Requirement already satisfied: idna<3,>=2.5 in /usr/local/lib/python3.6/dist-packages (from requests) (2.10)\n",
            "Requirement already satisfied: certifi>=2017.4.17 in /usr/local/lib/python3.6/dist-packages (from requests) (2020.6.20)\n",
            "Requirement already satisfied: chardet<4,>=3.0.2 in /usr/local/lib/python3.6/dist-packages (from requests) (3.0.4)\n",
            "Requirement already satisfied: urllib3!=1.25.0,!=1.25.1,<1.26,>=1.21.1 in /usr/local/lib/python3.6/dist-packages (from requests) (1.24.3)\n",
            "Requirement already satisfied: rsa>=3.1.4 in /usr/local/lib/python3.6/dist-packages (from oauth2client) (4.6)\n",
            "Requirement already satisfied: pyasn1>=0.1.7 in /usr/local/lib/python3.6/dist-packages (from oauth2client) (0.4.8)\n",
            "Requirement already satisfied: pyasn1-modules>=0.0.5 in /usr/local/lib/python3.6/dist-packages (from oauth2client) (0.2.8)\n",
            "Requirement already satisfied: six>=1.6.1 in /usr/local/lib/python3.6/dist-packages (from oauth2client) (1.15.0)\n",
            "Requirement already satisfied: httplib2>=0.9.1 in /usr/local/lib/python3.6/dist-packages (from oauth2client) (0.17.4)\n",
            "Requirement already satisfied: numpy>=1.13.3 in /usr/local/lib/python3.6/dist-packages (from pandas) (1.18.5)\n",
            "Requirement already satisfied: pytz>=2017.2 in /usr/local/lib/python3.6/dist-packages (from pandas) (2018.9)\n",
            "Requirement already satisfied: python-dateutil>=2.6.1 in /usr/local/lib/python3.6/dist-packages (from pandas) (2.8.1)\n"
          ],
          "name": "stdout"
        }
      ]
    },
    {
      "cell_type": "code",
      "metadata": {
        "id": "E1tXBVNeQE2o",
        "colab_type": "code",
        "colab": {}
      },
      "source": [
        "access_token = 'アクセストークン'\n",
        "\n",
        "ig_user_id = 'インスタのビジネスアカウントのID'\n",
        "\n",
        "sheet_name = '記録するスプレッドシートの名前'\n",
        "\n",
        "post_num = 30 # 直近の何投稿のデータを取ってくるかのパラメータ。最大でも150程度までにしておかないとAPIの制限に引っかかる。"
      ],
      "execution_count": null,
      "outputs": []
    },
    {
      "cell_type": "code",
      "metadata": {
        "id": "MUGWlYfBQHB4",
        "colab_type": "code",
        "colab": {}
      },
      "source": [
        "import requests\n",
        "import json\n",
        "import datetime\n",
        "from google.colab import auth\n",
        "from oauth2client.client import GoogleCredentials\n",
        "import gspread\n",
        "import pandas as pd\n",
        "from gspread_dataframe import set_with_dataframe"
      ],
      "execution_count": null,
      "outputs": []
    },
    {
      "cell_type": "code",
      "metadata": {
        "id": "pmS3oQDVQeYO",
        "colab_type": "code",
        "colab": {}
      },
      "source": [
        "def get_post_data(access_token, ig_user_id, post_num):\n",
        "  params = (\n",
        "    ('access_token', access_token),\n",
        "    ('fields', 'id, shortcode'),\n",
        "  )\n",
        "  media_response = requests.get('https://graph.facebook.com/v8.0/' + ig_user_id + '/media', params=params)  \n",
        "  media_dict = media_response.json()\n",
        "  media_id = []\n",
        "  media_url = []\n",
        "  for num, d in enumerate(media_dict[\"data\"]):\n",
        "    if num >= 100:\n",
        "      break\n",
        "    media_id.append(d[\"id\"])\n",
        "    media_url.append(\"https://www.instagram.com/p/\" + d[\"shortcode\"])\n",
        "  params = (\n",
        "    ('access_token', access_token),\n",
        "    ('metric', 'engagement,impressions,reach,saved'),\n",
        "  )\n",
        "\n",
        "  insights_list = []\n",
        "\n",
        "  for m in media_id:\n",
        "    insights_response = requests.get('https://graph.facebook.com/v8.0/' + m + '/insights', params=params)\n",
        "    insights_dict = insights_response.json()\n",
        "    add_dict = {}\n",
        "    for d in insights_dict[\"data\"]:\n",
        "      add_dict[d[\"name\"]] = d[\"values\"][0][\"value\"]\n",
        "    insights_list.append(add_dict)\n",
        "  return media_url, insights_list\n",
        "\n",
        "\n",
        "sheet_num_item_dict = {0: 'engagement', 1: 'impressions', 2: 'reach', 3: 'saved'}\n",
        "\n",
        "def main(sheet_name, sheet_num, media_url, insights_list):\n",
        "  # 認証処理\n",
        "  auth.authenticate_user()\n",
        "  gc = gspread.authorize(GoogleCredentials.get_application_default())\n",
        "\n",
        "  # sheet_nameに渡された名前のスプレッドシートをopen\n",
        "  # 存在しないとエラーになる\n",
        "  worksheet = gc.open(sheet_name).get_worksheet(sheet_num)\n",
        "\n",
        "  # List[List]の形でworksheetを読み込む\n",
        "  df = worksheet.get_all_values()\n",
        "  # sheetが空のときは投稿のURLをカラムとして初期化する\n",
        "  if df == []:\n",
        "    tmp = ['']\n",
        "    for p in media_url:\n",
        "      tmp.append(p)\n",
        "    df.append(tmp)\n",
        "  \n",
        "  else:\n",
        "    for p in media_url:\n",
        "      # 今までクロールしたことのある投稿かチェック\n",
        "      if p not in df[0]:\n",
        "        #なければカラムを足す\n",
        "        df[0].append(p)\n",
        "        # 今までの記録があれば空欄で初期化する操作もする\n",
        "        if len(df) > 1:\n",
        "          for i in range(1, len(df)):\n",
        "            df[i].append('')\n",
        "    \n",
        "\n",
        "  add_row = [''] * len(df[0])\n",
        "  # indexには今日の日付を使用する\n",
        "  today = datetime.date.today()\n",
        "  add_row[0] = today\n",
        "  for i, p in enumerate(df[0][1:]):\n",
        "    if p in media_url:\n",
        "      add_row[i+1] = insights_list[media_url.index(p)][sheet_num_item_dict[sheet_num]]\n",
        "  df.append(add_row)\n",
        "\n",
        "  set_with_dataframe(worksheet, pd.DataFrame(df), include_index=False, include_column_header=False)"
      ],
      "execution_count": null,
      "outputs": []
    },
    {
      "cell_type": "code",
      "metadata": {
        "id": "yuFrrObC5hp0",
        "colab_type": "code",
        "colab": {}
      },
      "source": [
        "media_url, insights_list = get_post_data(access_token, ig_user_id)\n",
        "for i in range(4):\n",
        "  main(sheet_name, i, media_url, insights_list)"
      ],
      "execution_count": null,
      "outputs": []
    },
    {
      "cell_type": "code",
      "metadata": {
        "id": "GmzbE-CHPIQd",
        "colab_type": "code",
        "colab": {}
      },
      "source": [
        ""
      ],
      "execution_count": null,
      "outputs": []
    }
  ]
}